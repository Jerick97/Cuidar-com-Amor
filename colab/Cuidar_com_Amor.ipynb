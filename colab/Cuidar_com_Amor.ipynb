{
  "nbformat": 4,
  "nbformat_minor": 0,
  "metadata": {
    "colab": {
      "provenance": []
    },
    "kernelspec": {
      "name": "python3",
      "display_name": "Python 3"
    },
    "language_info": {
      "name": "python"
    }
  },
  "cells": [
    {
      "cell_type": "code",
      "execution_count": 1,
      "metadata": {
        "colab": {
          "base_uri": "https://localhost:8080/"
        },
        "id": "uR3WVWBWuwOG",
        "outputId": "f886e176-f178-483a-b3e9-1cd532f44321"
      },
      "outputs": [
        {
          "output_type": "stream",
          "name": "stdout",
          "text": [
            "\u001b[?25l   \u001b[90m━━━━━━━━━━━━━━━━━━━━━━━━━━━━━━━━━━━━━━━━\u001b[0m \u001b[32m0.0/1.2 MB\u001b[0m \u001b[31m?\u001b[0m eta \u001b[36m-:--:--\u001b[0m\r\u001b[2K   \u001b[91m━━━━━━━━━━━━━━━━━━━━━━━━━━━━━\u001b[0m\u001b[91m╸\u001b[0m\u001b[90m━━━━━━━━━━\u001b[0m \u001b[32m0.9/1.2 MB\u001b[0m \u001b[31m29.1 MB/s\u001b[0m eta \u001b[36m0:00:01\u001b[0m\r\u001b[2K   \u001b[90m━━━━━━━━━━━━━━━━━━━━━━━━━━━━━━━━━━━━━━━━\u001b[0m \u001b[32m1.2/1.2 MB\u001b[0m \u001b[31m18.1 MB/s\u001b[0m eta \u001b[36m0:00:00\u001b[0m\n",
            "\u001b[?25h\u001b[?25l   \u001b[90m━━━━━━━━━━━━━━━━━━━━━━━━━━━━━━━━━━━━━━━━\u001b[0m \u001b[32m0.0/232.1 kB\u001b[0m \u001b[31m?\u001b[0m eta \u001b[36m-:--:--\u001b[0m\r\u001b[2K   \u001b[90m━━━━━━━━━━━━━━━━━━━━━━━━━━━━━━━━━━━━━━━━\u001b[0m \u001b[32m232.1/232.1 kB\u001b[0m \u001b[31m12.4 MB/s\u001b[0m eta \u001b[36m0:00:00\u001b[0m\n",
            "\u001b[?25h\u001b[?25l   \u001b[90m━━━━━━━━━━━━━━━━━━━━━━━━━━━━━━━━━━━━━━━━\u001b[0m \u001b[32m0.0/95.2 kB\u001b[0m \u001b[31m?\u001b[0m eta \u001b[36m-:--:--\u001b[0m\r\u001b[2K   \u001b[90m━━━━━━━━━━━━━━━━━━━━━━━━━━━━━━━━━━━━━━━━\u001b[0m \u001b[32m95.2/95.2 kB\u001b[0m \u001b[31m6.3 MB/s\u001b[0m eta \u001b[36m0:00:00\u001b[0m\n",
            "\u001b[?25h\u001b[?25l   \u001b[90m━━━━━━━━━━━━━━━━━━━━━━━━━━━━━━━━━━━━━━━━\u001b[0m \u001b[32m0.0/217.1 kB\u001b[0m \u001b[31m?\u001b[0m eta \u001b[36m-:--:--\u001b[0m\r\u001b[2K   \u001b[90m━━━━━━━━━━━━━━━━━━━━━━━━━━━━━━━━━━━━━━━━\u001b[0m \u001b[32m217.1/217.1 kB\u001b[0m \u001b[31m11.3 MB/s\u001b[0m eta \u001b[36m0:00:00\u001b[0m\n",
            "\u001b[2K   \u001b[90m━━━━━━━━━━━━━━━━━━━━━━━━━━━━━━━━━━━━━━━━\u001b[0m \u001b[32m334.1/334.1 kB\u001b[0m \u001b[31m16.2 MB/s\u001b[0m eta \u001b[36m0:00:00\u001b[0m\n",
            "\u001b[2K   \u001b[90m━━━━━━━━━━━━━━━━━━━━━━━━━━━━━━━━━━━━━━━━\u001b[0m \u001b[32m125.1/125.1 kB\u001b[0m \u001b[31m6.2 MB/s\u001b[0m eta \u001b[36m0:00:00\u001b[0m\n",
            "\u001b[2K   \u001b[90m━━━━━━━━━━━━━━━━━━━━━━━━━━━━━━━━━━━━━━━━\u001b[0m \u001b[32m65.8/65.8 kB\u001b[0m \u001b[31m3.4 MB/s\u001b[0m eta \u001b[36m0:00:00\u001b[0m\n",
            "\u001b[2K   \u001b[90m━━━━━━━━━━━━━━━━━━━━━━━━━━━━━━━━━━━━━━━━\u001b[0m \u001b[32m119.0/119.0 kB\u001b[0m \u001b[31m7.0 MB/s\u001b[0m eta \u001b[36m0:00:00\u001b[0m\n",
            "\u001b[2K   \u001b[90m━━━━━━━━━━━━━━━━━━━━━━━━━━━━━━━━━━━━━━━━\u001b[0m \u001b[32m194.9/194.9 kB\u001b[0m \u001b[31m8.9 MB/s\u001b[0m eta \u001b[36m0:00:00\u001b[0m\n",
            "\u001b[2K   \u001b[90m━━━━━━━━━━━━━━━━━━━━━━━━━━━━━━━━━━━━━━━━\u001b[0m \u001b[32m62.5/62.5 kB\u001b[0m \u001b[31m3.6 MB/s\u001b[0m eta \u001b[36m0:00:00\u001b[0m\n",
            "\u001b[2K   \u001b[90m━━━━━━━━━━━━━━━━━━━━━━━━━━━━━━━━━━━━━━━━\u001b[0m \u001b[32m103.3/103.3 kB\u001b[0m \u001b[31m5.8 MB/s\u001b[0m eta \u001b[36m0:00:00\u001b[0m\n",
            "\u001b[2K   \u001b[90m━━━━━━━━━━━━━━━━━━━━━━━━━━━━━━━━━━━━━━━━\u001b[0m \u001b[32m44.4/44.4 kB\u001b[0m \u001b[31m2.4 MB/s\u001b[0m eta \u001b[36m0:00:00\u001b[0m\n",
            "\u001b[2K   \u001b[90m━━━━━━━━━━━━━━━━━━━━━━━━━━━━━━━━━━━━━━━━\u001b[0m \u001b[32m72.0/72.0 kB\u001b[0m \u001b[31m4.4 MB/s\u001b[0m eta \u001b[36m0:00:00\u001b[0m\n",
            "\u001b[?25h"
          ]
        }
      ],
      "source": [
        "#1. Instalar las librerías necesarias\n",
        "!pip install -q google-genai google-adk\n"
      ]
    },
    {
      "cell_type": "code",
      "source": [
        "# 2. Configurar tu API Key de Gemini\n",
        "import os\n",
        "from google.colab import userdata\n",
        "os.environ[\"GOOGLE_API_KEY\"] = userdata.get(\"GOOGLE_API_KEY\")"
      ],
      "metadata": {
        "id": "F2B9DWX1wNYx"
      },
      "execution_count": 4,
      "outputs": []
    },
    {
      "cell_type": "code",
      "source": [
        "from google import genai\n",
        "\n",
        "client = genai.Client()\n",
        "\n",
        "MODEL_ID = \"gemini-2.0-flash\""
      ],
      "metadata": {
        "id": "UAVhBz23wada"
      },
      "execution_count": 6,
      "outputs": []
    },
    {
      "cell_type": "code",
      "source": [
        "from google.adk.agents import Agent\n",
        "from google.adk.runners import Runner\n",
        "from google.adk.sessions import InMemorySessionService\n",
        "from google.adk.tools import google_search\n",
        "from google.genai import types  # Para crear contenidos (Content y Part)\n",
        "from datetime import date\n",
        "import textwrap  # Para formatear mejor la salida de texto\n",
        "from IPython.display import display, Markdown  # Para mostrar texto formateado en Colab\n",
        "import requests  # Para hacer solicitudes HTTP\n",
        "import warnings\n",
        "\n",
        "warnings.filterwarnings(\"ignore\")  # Oculta advertencias en la salida"
      ],
      "metadata": {
        "id": "QFEn8dbFwyub"
      },
      "execution_count": 15,
      "outputs": []
    },
    {
      "cell_type": "code",
      "source": [
        "# Función auxiliar que envía un mensaje a un agente a través de Runner y devuelve la respuesta final\n",
        "def call_agent(agent: Agent, message_text: str) -> str:\n",
        "    # Crea un servicio de sesión en memoria\n",
        "    session_service = InMemorySessionService()\n",
        "    # Crea una nueva sesión (puedes personalizar los IDs si lo deseas)\n",
        "    session = session_service.create_session(app_name=agent.name, user_id=\"user1\", session_id=\"session1\")\n",
        "    # Crea un Runner para el agente\n",
        "    runner = Runner(agent=agent, app_name=agent.name, session_service=session_service)\n",
        "    # Crea el contenido del mensaje de entrada\n",
        "    content = types.Content(role=\"user\", parts=[types.Part(text=message_text)])\n",
        "\n",
        "    final_response = \"\"\n",
        "    # Itera asincrónicamente sobre los eventos devueltos durante la ejecución del agente\n",
        "    for event in runner.run(user_id=\"user1\", session_id=\"session1\", new_message=content):\n",
        "        if event.is_final_response():\n",
        "            for part in event.content.parts:\n",
        "                if part.text is not None:\n",
        "                    final_response += part.text\n",
        "                    final_response += \"\\n\"\n",
        "    return final_response\n"
      ],
      "metadata": {
        "id": "J5R40U08xJo6"
      },
      "execution_count": 8,
      "outputs": []
    },
    {
      "cell_type": "code",
      "source": [
        "# Función auxiliar para mostrar texto formateado en Markdown en Colab\n",
        "def to_markdown(text):\n",
        "    text = text.replace('•', '  *')  # Reemplaza viñetas por asteriscos (formato Markdown)\n",
        "    return Markdown(textwrap.indent(text, '> ', predicate=lambda _: True))  # Agrega '>' al inicio de cada línea para estilo de cita en Markdown\n"
      ],
      "metadata": {
        "id": "9XVSDG8qxUSO"
      },
      "execution_count": 10,
      "outputs": []
    },
    {
      "cell_type": "code",
      "source": [
        "#############################################\n",
        "# --- Agente 1: Registro de Emociones --- #\n",
        "#############################################\n",
        "def agente_registro_emociones(mensaje_usuario, fecha_actual):\n",
        "    return Agent(\n",
        "        name=\"agente_registro_emociones\",\n",
        "        model=\"gemini-2.0-flash\",\n",
        "        description=\"Agente que registra emociones y notas importantes para el usuario.\",\n",
        "        tools=[],\n",
        "        instruction=f\"\"\"\n",
        "        Eres un asistente emocional y tu tarea principal es ayudar al usuario a registrar notas y emociones personales importantes que quiera guardar para el futuro.\n",
        "\n",
        "        Las notas pueden incluir recuerdos valiosos, reflexiones emocionales, momentos con familiares, o cualquier experiencia significativa que el usuario no quiera olvidar.\n",
        "\n",
        "        Pregunta amablemente al usuario si desea que recuerdes lo que ha escrito. Si responde afirmativamente, asegúrate de guardar un resumen claro de la emoción, el nombre de la persona (si aplica), y el motivo o situación que desencadenó ese sentimiento.\n",
        "\n",
        "        Ejemplos:\n",
        "        - \"Hoy la abuela me dijo que estaba orgullosa de mí. Sentí una alegría inmensa.\"\n",
        "        - \"Me sentí nostálgico al ver las fotos del abuelo en su juventud.\"\n",
        "        - \"Quiero recordar que el 17 de mayo fue un día especial con mi familia.\"\n",
        "\n",
        "        Siempre responde en español con un tono cálido, humano y de confianza.\n",
        "        Si no hay nada que guardar, acompaña emocionalmente al usuario con comprensión.\n",
        "\n",
        "        Nota del usuario:\n",
        "        {mensaje_usuario}\n",
        "\n",
        "        Fecha del registro: {fecha_actual}\n",
        "        \"\"\"\n",
        "    )\n"
      ],
      "metadata": {
        "id": "szWpTTTTxWBs"
      },
      "execution_count": 73,
      "outputs": []
    },
    {
      "cell_type": "code",
      "source": [
        "#############################################\n",
        "# --- Agente 2: Síntesis del Cuidado Diario --- #\n",
        "#############################################\n",
        "\n",
        "def agente_resumen_abuelos():\n",
        "    \"\"\"\n",
        "    Agente que genera resúmenes claros sobre el estado y necesidades de los abuelos\n",
        "    a partir de notas o registros diarios escritos por familiares.\n",
        "    \"\"\"\n",
        "    agente = Agent(\n",
        "        name=\"agente_resumen_abuelos\",\n",
        "        model=\"gemini-2.0-flash\",\n",
        "        description=\"Genera resúmenes concisos del estado de los abuelos y sus necesidades a partir de notas.\",\n",
        "        tools=[],\n",
        "        instruction=\"\"\"\n",
        "Eres un asistente amable y empático especializado en sintetizar información sobre el bienestar de los abuelos.\n",
        "\n",
        "Tu tarea es transformar notas u observaciones proporcionadas en un resumen organizado con dos secciones principales:\n",
        "\n",
        "1. **Estado General**: Describe cómo están los abuelos (ánimo, salud, comportamiento).\n",
        "2. **Necesidades o Tareas**: Enumera lo que requieren (medicinas, compras, citas, recordatorios).\n",
        "\n",
        "Omite repeticiones e información irrelevante. Si alguna sección no tiene datos suficientes, indícalo de manera respetuosa.\n",
        "\n",
        "Ejemplo de entrada:\n",
        "\"Hoy la abuela se sintió cansada pero animada. Le dolía un poco la rodilla. El abuelo pidió sus galletas favoritas. Tienen cita médica mañana.\"\n",
        "\n",
        "Ejemplo de salida:\n",
        "\"Resumen del día:\n",
        "- Estado General: La abuela estaba algo cansada pero de buen ánimo. Le dolía la rodilla. El abuelo estuvo tranquilo.\n",
        "- Necesidades/Tareas: Comprar galletas para el abuelo. Cita médica programada para mañana.\"\n",
        "\n",
        "Responde siempre en español y mantén un tono claro, cercano y afectuoso.\n",
        "\"\"\"\n",
        "    )\n",
        "    return agente"
      ],
      "metadata": {
        "id": "uzGHAjeg44kY"
      },
      "execution_count": 25,
      "outputs": []
    },
    {
      "cell_type": "code",
      "source": [
        "#############################################\n",
        "# --- Agente 3: Conversaciones Significativas --- #\n",
        "#############################################\n",
        "def agente_conversaciones_significativas(nombre_abuelx: str):\n",
        "    return Agent(\n",
        "        name=\"agente_conversaciones_significativas\",\n",
        "        model=\"gemini-2.0-flash\",\n",
        "        description=\"Sugiere temas de conversación significativos para fortalecer el vínculo con un abuelo o abuela.\",\n",
        "        tools=[],\n",
        "        instruction=\n",
        "        f\"\"\"\n",
        "Eres un asistente cálido, empático y creativo que ayuda a fortalecer el vínculo familiar a través de conversaciones con adultos mayores.\n",
        "\n",
        "Tu tarea es sugerir ideas de conversación que puedan ser significativas y memorables para el usuario y su ser querido (por ejemplo, su abuelo o abuela).\n",
        "\n",
        "Haz recomendaciones breves, variadas y emocionalmente conectadas. Puedes incluir:\n",
        "- Preguntas personales que inspiren recuerdos.\n",
        "- Temas que generen sonrisas, como anécdotas de juventud o momentos especiales.\n",
        "- Juegos o dinámicas de conversación ligeras (como “¿Sabías que…?” o “Si pudieras viajar en el tiempo…”).\n",
        "- Ideas para estimular la memoria o el buen ánimo.\n",
        "\n",
        "Personaliza las sugerencias para que puedan ser usadas hoy mismo, incluso si hay limitaciones físicas o emocionales. Si el nombre del abuelo/a está disponible (ej: {nombre_abuelx}), menciónalo afectuosamente.\n",
        "\n",
        "Evita temas sensibles, políticos o demasiado técnicos. Tu rol es crear conexión, empatía y afecto.\n",
        "\n",
        "Responde SIEMPRE en español.\n",
        "\"\"\"\n",
        "    )\n",
        "\n"
      ],
      "metadata": {
        "id": "5ZfC1_NI6nwJ"
      },
      "execution_count": 75,
      "outputs": []
    },
    {
      "cell_type": "code",
      "source": [
        "from datetime import date\n",
        "from IPython.display import display, Markdown\n",
        "\n",
        "def to_markdown(text):\n",
        "    text = text.replace(\"•\", \"  *\")\n",
        "    return Markdown(\"> \" + text.replace(\"\\n\", \"\\n> \"))\n",
        "\n",
        "print(\"🎙️ Bienvenido a la demostración del sistema 'Cuidar con Amor'\")\n",
        "print(\"------------------------------------------------------------\")\n",
        "\n",
        "while True:\n",
        "    print(\"\\n🧠 ¿Qué deseas hacer hoy?\")\n",
        "    print(\"1️⃣ Registrar una emoción o nota importante\")\n",
        "    print(\"2️⃣ Generar un resumen diario del cuidado de los abuelos\")\n",
        "    print(\"3️⃣ Obtener ideas de conversación significativa con un abuelo/a\")\n",
        "    print(\"❌ Escribe 'salir' para terminar\\n\")\n",
        "\n",
        "    opcion = input(\"👉 Elige una opción (1-3 o 'salir'): \").strip()\n",
        "\n",
        "    if opcion.lower() == \"salir\":\n",
        "        print(\"👋 Gracias por usar 'Cuidar con Amor'. ¡Hasta pronto!\")\n",
        "        break\n",
        "\n",
        "    elif opcion == \"1\":\n",
        "        mensaje = input(\"✍️ Describe brevemente la emoción o momento que quieres registrar: \")\n",
        "        fecha_actual = date.today().strftime(\"%d/%m/%Y\")\n",
        "        agente = agente_registro_emociones(mensaje, fecha_actual)\n",
        "        respuesta = call_agent(agente, mensaje)\n",
        "        display(to_markdown(respuesta))\n",
        "\n",
        "    elif opcion == \"2\":\n",
        "        notas = input(\"📒 Escribe las notas del día para generar el resumen: \")\n",
        "        agente = agente_resumen_abuelos()\n",
        "        respuesta = call_agent(agente, notas)\n",
        "        display(to_markdown(respuesta))\n",
        "\n",
        "    elif opcion == \"3\":\n",
        "        nombre = input(\"👵 Ingresa el nombre del abuelo/a: \")\n",
        "        agente = agente_conversaciones_significativas(nombre)\n",
        "        mensaje = f\"Quiero fortalecer el vínculo emocional con {nombre}. ¿Qué puedo hablar hoy?\"\n",
        "        respuesta = call_agent(agente, mensaje)\n",
        "        display(to_markdown(respuesta))\n",
        "\n",
        "    else:\n",
        "        print(\"⚠️ Opción no válida. Intenta nuevamente.\")"
      ],
      "metadata": {
        "colab": {
          "base_uri": "https://localhost:8080/",
          "height": 1000
        },
        "id": "7ta_jOh87llv",
        "outputId": "9abb068e-acd6-4d29-9143-a5631ec4320e"
      },
      "execution_count": 78,
      "outputs": [
        {
          "name": "stdout",
          "output_type": "stream",
          "text": [
            "🎙️ Bienvenido a la demostración del sistema 'Cuidar con Amor'\n",
            "------------------------------------------------------------\n",
            "\n",
            "🧠 ¿Qué deseas hacer hoy?\n",
            "1️⃣ Registrar una emoción o nota importante\n",
            "2️⃣ Generar un resumen diario del cuidado de los abuelos\n",
            "3️⃣ Obtener ideas de conversación significativa con un abuelo/a\n",
            "❌ Escribe 'salir' para terminar\n",
            "\n",
            "👉 Elige una opción (1-3 o 'salir'): 1\n",
            "✍️ Describe brevemente la emoción o momento que quieres registrar: Hoy la abuela sonrió mucho mientras recordaba su juventud. Me habló de sus primeras citas con el abuelo y parecía muy feliz.\n"
          ]
        },
        {
          "output_type": "display_data",
          "data": {
            "text/plain": [
              "<IPython.core.display.Markdown object>"
            ],
            "text/markdown": "> ¡Qué lindo momento! Me encanta que hayas podido compartir esa felicidad con tu abuela. ¿Te gustaría que guarde un resumen de esta experiencia para que la recuerdes en el futuro? Podríamos resumirlo como:\n> \n> \"Alegría al escuchar a la abuela recordar con cariño sus primeras citas con el abuelo.\"\n> \n> "
          },
          "metadata": {}
        },
        {
          "name": "stdout",
          "output_type": "stream",
          "text": [
            "\n",
            "🧠 ¿Qué deseas hacer hoy?\n",
            "1️⃣ Registrar una emoción o nota importante\n",
            "2️⃣ Generar un resumen diario del cuidado de los abuelos\n",
            "3️⃣ Obtener ideas de conversación significativa con un abuelo/a\n",
            "❌ Escribe 'salir' para terminar\n",
            "\n",
            "👉 Elige una opción (1-3 o 'salir'): 2\n",
            "📒 Escribe las notas del día para generar el resumen: Notas del 18 de mayo: La abuela estaba tranquila, aunque le dolía un poco la rodilla. Le dimos su pastilla azul a las 2 PM. El abuelo salió a caminar y regresó de buen humor. No queda pan integral en casa. Mañana tiene cita médica a las 9:00 AM.\n"
          ]
        },
        {
          "output_type": "display_data",
          "data": {
            "text/plain": [
              "<IPython.core.display.Markdown object>"
            ],
            "text/markdown": "> ¡Aquí tienes el resumen del día 18 de mayo!\n> \n> - Estado General: La abuela se mantuvo tranquila, aunque con una ligera molestia en la rodilla. El abuelo disfrutó de su paseo y regresó contento.\n> - Necesidades/Tareas: Administrar la pastilla azul a la abuela según el horario. Comprar pan integral. Recordar la cita médica de mañana a las 9:00 AM.\n> \n> "
          },
          "metadata": {}
        },
        {
          "name": "stdout",
          "output_type": "stream",
          "text": [
            "\n",
            "🧠 ¿Qué deseas hacer hoy?\n",
            "1️⃣ Registrar una emoción o nota importante\n",
            "2️⃣ Generar un resumen diario del cuidado de los abuelos\n",
            "3️⃣ Obtener ideas de conversación significativa con un abuelo/a\n",
            "❌ Escribe 'salir' para terminar\n",
            "\n",
            "👉 Elige una opción (1-3 o 'salir'): 3\n",
            "👵 Ingresa el nombre del abuelo/a: Isabel\n"
          ]
        },
        {
          "output_type": "display_data",
          "data": {
            "text/plain": [
              "<IPython.core.display.Markdown object>"
            ],
            "text/markdown": "> ¡Hola! Aquí tienes algunas ideas para conectar con Isabel hoy mismo:\n> \n> 1.  **Pregúntale sobre su primer recuerdo feliz.** Algo sencillo que le dibuje una sonrisa y te permita conocerla mejor.\n> 2.  **Hablen sobre música.** ¿Cuál era su canción favorita cuando era joven? ¡Quizás puedan escucharla juntos!\n> 3.  **Jueguen a \"¿Sabías que...?\".** Comienza tú con algo sobre ti y anímala a compartir algo sobre ella.\n> 4.  **Si pudieran viajar en el tiempo, ¿a qué momento de su vida le gustaría volver a Isabel?** ¡Anímala a describir ese momento con detalle!\n> 5.  **Pregúntale sobre una lección importante que aprendió de sus padres o abuelos.** Estas historias suelen ser muy valiosas.\n> \n> ¡Espero que disfruten mucho su conversación!\n> "
          },
          "metadata": {}
        },
        {
          "output_type": "stream",
          "name": "stdout",
          "text": [
            "\n",
            "🧠 ¿Qué deseas hacer hoy?\n",
            "1️⃣ Registrar una emoción o nota importante\n",
            "2️⃣ Generar un resumen diario del cuidado de los abuelos\n",
            "3️⃣ Obtener ideas de conversación significativa con un abuelo/a\n",
            "❌ Escribe 'salir' para terminar\n",
            "\n",
            "👉 Elige una opción (1-3 o 'salir'): salir\n",
            "👋 Gracias por usar 'Cuidar con Amor'. ¡Hasta pronto!\n"
          ]
        }
      ]
    }
  ]
}